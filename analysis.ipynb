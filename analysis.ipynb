{
 "cells": [
  {
   "cell_type": "code",
   "execution_count": 99,
   "metadata": {},
   "outputs": [],
   "source": [
    "import pandas as pd\n",
    "import numpy as np\n",
    "import matplotlib.pyplot as plt\n",
    "import seaborn as sns\n",
    "\n",
    "# Import Sparksession\n",
    "from pyspark.sql import SparkSession\n",
    "from pyspark.sql.functions import *\n",
    "from pyspark.sql import functions as F\n",
    "from pyspark.sql.types import *\n",
    "\n",
    "import warnings\n",
    "warnings.filterwarnings('ignore')\n",
    "\n",
    "spark = SparkSession.builder.appName(\"E-Commerce Analysis\")\\\n",
    "        .config(\"spark.memory.offHeap.enabled\",\"true\")\\\n",
    "        .config(\"spark.memory.offHeap.size\",\"10g\")\\\n",
    "        .getOrCreate()\n",
    "\n",
    "spark.conf.set(\"spark.sql.legacy.timeParserPolicy\",\"LEGACY\")"
   ]
  },
  {
   "cell_type": "code",
   "execution_count": 100,
   "metadata": {},
   "outputs": [
    {
     "name": "stdout",
     "output_type": "stream",
     "text": [
      "Data shape: (185013, 9)\n",
      "+-----------+---------------+---------------------+-------------+---------+------------+----------------+---------------------------------+-------------------+\n",
      "|Customer ID|Customer Status|Date Order was placed|Delivery Date| Order ID|  Product ID|Quantity Ordered|Total Retail Price for This Order|Cost Price Per Unit|\n",
      "+-----------+---------------+---------------------+-------------+---------+------------+----------------+---------------------------------+-------------------+\n",
      "|        579|         Silver|            01-Jan-17|    07-Jan-17|123002578|220101400106|               2|                             92.6|               20.7|\n",
      "|       7574|         SILVER|            01-Jan-17|    05-Jan-17|123004074|210201000009|               1|                             21.7|               9.95|\n",
      "|      28861|           Gold|            01-Jan-17|    04-Jan-17|123000871|230100500068|               1|                              1.7|                0.8|\n",
      "|      43796|           Gold|            01-Jan-17|    06-Jan-17|123002851|220100100633|               1|                             47.9|              24.05|\n",
      "|      54673|           Gold|            01-Jan-17|    04-Jan-17|123003607|220200200043|               1|                             36.9|               18.3|\n",
      "+-----------+---------------+---------------------+-------------+---------+------------+----------------+---------------------------------+-------------------+\n",
      "only showing top 5 rows\n",
      "\n"
     ]
    }
   ],
   "source": [
    "order_df = spark.read.csv('Dataset/orders.csv',\n",
    "                    header=True,\n",
    "                    inferSchema=True,\n",
    "                    escape=\"\\\"\")\n",
    "\n",
    "def data_shape(data):\n",
    "    \"\"\"return the number of rows & cols\"\"\"\n",
    "    n_rows = data.count()\n",
    "    n_cols = len(data.columns)\n",
    "\n",
    "    return n_rows, n_cols\n",
    "\n",
    "print('Data shape:', data_shape(order_df))\n",
    "order_df.show(5)"
   ]
  },
  {
   "cell_type": "code",
   "execution_count": 3,
   "metadata": {},
   "outputs": [
    {
     "name": "stdout",
     "output_type": "stream",
     "text": [
      "root\n",
      " |-- Customer ID: integer (nullable = true)\n",
      " |-- Customer Status: string (nullable = true)\n",
      " |-- Date Order was placed: string (nullable = true)\n",
      " |-- Delivery Date: string (nullable = true)\n",
      " |-- Order ID: integer (nullable = true)\n",
      " |-- Product ID: long (nullable = true)\n",
      " |-- Quantity Ordered: integer (nullable = true)\n",
      " |-- Total Retail Price for This Order: double (nullable = true)\n",
      " |-- Cost Price Per Unit: double (nullable = true)\n",
      "\n"
     ]
    }
   ],
   "source": [
    "# Display the schema\n",
    "order_df.printSchema()"
   ]
  },
  {
   "cell_type": "code",
   "execution_count": 4,
   "metadata": {},
   "outputs": [
    {
     "name": "stderr",
     "output_type": "stream",
     "text": [
      "23/10/18 16:12:42 WARN SparkStringUtils: Truncated the string representation of a plan since it was too large. This behavior can be adjusted by setting 'spark.sql.debug.maxToStringFields'.\n",
      "                                                                                \r"
     ]
    },
    {
     "data": {
      "text/html": [
       "<div>\n",
       "<style scoped>\n",
       "    .dataframe tbody tr th:only-of-type {\n",
       "        vertical-align: middle;\n",
       "    }\n",
       "\n",
       "    .dataframe tbody tr th {\n",
       "        vertical-align: top;\n",
       "    }\n",
       "\n",
       "    .dataframe thead th {\n",
       "        text-align: right;\n",
       "    }\n",
       "</style>\n",
       "<table border=\"1\" class=\"dataframe\">\n",
       "  <thead>\n",
       "    <tr style=\"text-align: right;\">\n",
       "      <th></th>\n",
       "      <th>0</th>\n",
       "      <th>1</th>\n",
       "      <th>2</th>\n",
       "      <th>3</th>\n",
       "      <th>4</th>\n",
       "    </tr>\n",
       "  </thead>\n",
       "  <tbody>\n",
       "    <tr>\n",
       "      <th>summary</th>\n",
       "      <td>count</td>\n",
       "      <td>mean</td>\n",
       "      <td>stddev</td>\n",
       "      <td>min</td>\n",
       "      <td>max</td>\n",
       "    </tr>\n",
       "    <tr>\n",
       "      <th>Customer ID</th>\n",
       "      <td>185013</td>\n",
       "      <td>45379.31874516926</td>\n",
       "      <td>27231.520232510815</td>\n",
       "      <td>1</td>\n",
       "      <td>94253</td>\n",
       "    </tr>\n",
       "    <tr>\n",
       "      <th>Customer Status</th>\n",
       "      <td>185013</td>\n",
       "      <td>None</td>\n",
       "      <td>None</td>\n",
       "      <td>GOLD</td>\n",
       "      <td>Silver</td>\n",
       "    </tr>\n",
       "    <tr>\n",
       "      <th>Date Order was placed</th>\n",
       "      <td>185013</td>\n",
       "      <td>None</td>\n",
       "      <td>None</td>\n",
       "      <td>01-Apr-17</td>\n",
       "      <td>31-Oct-21</td>\n",
       "    </tr>\n",
       "    <tr>\n",
       "      <th>Delivery Date</th>\n",
       "      <td>185013</td>\n",
       "      <td>None</td>\n",
       "      <td>None</td>\n",
       "      <td>01-Apr-17</td>\n",
       "      <td>31-Oct-21</td>\n",
       "    </tr>\n",
       "    <tr>\n",
       "      <th>Order ID</th>\n",
       "      <td>185013</td>\n",
       "      <td>1.237009684667672E8</td>\n",
       "      <td>428813.7508899134</td>\n",
       "      <td>123000000</td>\n",
       "      <td>124499984</td>\n",
       "    </tr>\n",
       "    <tr>\n",
       "      <th>Product ID</th>\n",
       "      <td>185013</td>\n",
       "      <td>2.2895493829110498E11</td>\n",
       "      <td>1.0661976755724096E10</td>\n",
       "      <td>210200100001</td>\n",
       "      <td>240800200065</td>\n",
       "    </tr>\n",
       "    <tr>\n",
       "      <th>Quantity Ordered</th>\n",
       "      <td>185013</td>\n",
       "      <td>1.671644695237632</td>\n",
       "      <td>0.8979819379901292</td>\n",
       "      <td>1</td>\n",
       "      <td>10</td>\n",
       "    </tr>\n",
       "    <tr>\n",
       "      <th>Total Retail Price for This Order</th>\n",
       "      <td>185013</td>\n",
       "      <td>138.59298165534864</td>\n",
       "      <td>183.84843431836126</td>\n",
       "      <td>0.625</td>\n",
       "      <td>6382.0</td>\n",
       "    </tr>\n",
       "    <tr>\n",
       "      <th>Cost Price Per Unit</th>\n",
       "      <td>185013</td>\n",
       "      <td>38.69527471042593</td>\n",
       "      <td>42.368466526625696</td>\n",
       "      <td>0.2</td>\n",
       "      <td>791.8</td>\n",
       "    </tr>\n",
       "  </tbody>\n",
       "</table>\n",
       "</div>"
      ],
      "text/plain": [
       "                                        0                      1  \\\n",
       "summary                             count                   mean   \n",
       "Customer ID                        185013      45379.31874516926   \n",
       "Customer Status                    185013                   None   \n",
       "Date Order was placed              185013                   None   \n",
       "Delivery Date                      185013                   None   \n",
       "Order ID                           185013    1.237009684667672E8   \n",
       "Product ID                         185013  2.2895493829110498E11   \n",
       "Quantity Ordered                   185013      1.671644695237632   \n",
       "Total Retail Price for This Order  185013     138.59298165534864   \n",
       "Cost Price Per Unit                185013      38.69527471042593   \n",
       "\n",
       "                                                       2             3  \\\n",
       "summary                                           stddev           min   \n",
       "Customer ID                           27231.520232510815             1   \n",
       "Customer Status                                     None          GOLD   \n",
       "Date Order was placed                               None     01-Apr-17   \n",
       "Delivery Date                                       None     01-Apr-17   \n",
       "Order ID                               428813.7508899134     123000000   \n",
       "Product ID                         1.0661976755724096E10  210200100001   \n",
       "Quantity Ordered                      0.8979819379901292             1   \n",
       "Total Retail Price for This Order     183.84843431836126         0.625   \n",
       "Cost Price Per Unit                   42.368466526625696           0.2   \n",
       "\n",
       "                                              4  \n",
       "summary                                     max  \n",
       "Customer ID                               94253  \n",
       "Customer Status                          Silver  \n",
       "Date Order was placed                 31-Oct-21  \n",
       "Delivery Date                         31-Oct-21  \n",
       "Order ID                              124499984  \n",
       "Product ID                         240800200065  \n",
       "Quantity Ordered                             10  \n",
       "Total Retail Price for This Order        6382.0  \n",
       "Cost Price Per Unit                       791.8  "
      ]
     },
     "execution_count": 4,
     "metadata": {},
     "output_type": "execute_result"
    }
   ],
   "source": [
    "order_df.describe().toPandas().T"
   ]
  },
  {
   "cell_type": "code",
   "execution_count": 5,
   "metadata": {},
   "outputs": [
    {
     "name": "stdout",
     "output_type": "stream",
     "text": [
      "+-----------+---------------+---------------------+-------------+---------+------------+----------------+---------------------------------+-------------------+----+-----+------------+------+\n",
      "|Customer ID|Customer Status|Date Order was placed|Delivery Date| Order ID|  Product ID|Quantity Ordered|Total Retail Price for This Order|Cost Price Per Unit|Year|Month|Retail Price|Profit|\n",
      "+-----------+---------------+---------------------+-------------+---------+------------+----------------+---------------------------------+-------------------+----+-----+------------+------+\n",
      "|        579|         Silver|           2017-01-01|   2017-01-07|123002578|220101400106|               2|                             92.6|               20.7|2017|    1|        46.3|  51.2|\n",
      "|       7574|         Silver|           2017-01-01|   2017-01-05|123004074|210201000009|               1|                             21.7|               9.95|2017|    1|        21.7| 11.75|\n",
      "|      28861|           Gold|           2017-01-01|   2017-01-04|123000871|230100500068|               1|                              1.7|                0.8|2017|    1|         1.7|   0.9|\n",
      "|      43796|           Gold|           2017-01-01|   2017-01-06|123002851|220100100633|               1|                             47.9|              24.05|2017|    1|        47.9| 23.85|\n",
      "|      54673|           Gold|           2017-01-01|   2017-01-04|123003607|220200200043|               1|                             36.9|               18.3|2017|    1|        36.9|  18.6|\n",
      "|      74503|         Silver|           2017-01-01|   2017-01-04|123000487|240200100007|               1|                             24.7|               11.8|2017|    1|        24.7|  12.9|\n",
      "|       1870|         Silver|           2017-01-02|   2017-01-02|123006324|240100400009|               1|                             65.5|               25.6|2017|    1|        65.5|  39.9|\n",
      "|       2351|         Silver|           2017-01-02|   2017-01-02|123005769|240600100089|               2|                             44.0|                9.1|2017|    1|        22.0|  25.8|\n",
      "|       3073|         Silver|           2017-01-02|   2017-01-02|123008467|240200100215|               1|                            108.7|               56.3|2017|    1|       108.7|  52.4|\n",
      "|       5907|           Gold|           2017-01-02|   2017-01-06|123008924|220200300083|               1|                             53.0|               26.6|2017|    1|        53.0|  26.4|\n",
      "+-----------+---------------+---------------------+-------------+---------+------------+----------------+---------------------------------+-------------------+----+-----+------------+------+\n",
      "only showing top 10 rows\n",
      "\n"
     ]
    }
   ],
   "source": [
    "order_df = (order_df\n",
    "            .withColumn(\"Date Order was placed\", to_date(col(\"Date Order was placed\"), \"dd-MMM-yy\"))\n",
    "            .withColumn(\"Delivery Date\", to_date(col(\"Delivery Date\"), \"dd-MMM-yy\"))\n",
    "            .withColumn(\"Year\", year(\"Date Order was placed\"))\n",
    "            .withColumn(\"Month\", month(\"Date Order was placed\"))\n",
    "            .withColumn(\"Customer Status\", initcap(\"Customer Status\"))\n",
    "            .withColumn(\"Retail Price\", col(\"Total Retail Price for This Order\")/col(\"Quantity Ordered\"))\n",
    "            .withColumn(\"Profit\", round(col(\"Total Retail Price for This Order\") - \\\n",
    "                        (col(\"Cost Price Per Unit\")*col(\"Quantity Ordered\")), 2)))\n",
    "\n",
    "order_df.show(10)"
   ]
  },
  {
   "cell_type": "code",
   "execution_count": 6,
   "metadata": {},
   "outputs": [
    {
     "name": "stdout",
     "output_type": "stream",
     "text": [
      "+------------+------------+-----------------+--------------------+--------------------+----------------+--------------------+-----------+\n",
      "|  Product ID|Product Line| Product Category|       Product Group|        Product Name|Supplier Country|       Supplier Name|Supplier ID|\n",
      "+------------+------------+-----------------+--------------------+--------------------+----------------+--------------------+-----------+\n",
      "|210100100001|    Children|Children Outdoors|Outdoor things, Kids|Boy's and Girl's ...|              NO|Scandinavian Clot...|         50|\n",
      "|210100100002|    Children|Children Outdoors|Outdoor things, Kids|   Children's Jacket|              ES| Luna sastreria S.A.|       4742|\n",
      "|210100100003|    Children|Children Outdoors|Outdoor things, Kids|Children's Jacket...|              NO|Scandinavian Clot...|         50|\n",
      "|210100100004|    Children|Children Outdoors|Outdoor things, Kids| Children's Rain Set|              NO|Scandinavian Clot...|         50|\n",
      "|210100100005|    Children|Children Outdoors|Outdoor things, Kids|Children's Rain Suit|              NO|Scandinavian Clot...|         50|\n",
      "+------------+------------+-----------------+--------------------+--------------------+----------------+--------------------+-----------+\n",
      "only showing top 5 rows\n",
      "\n"
     ]
    }
   ],
   "source": [
    "product_df = spark.read.csv('Dataset/product_supplier.csv',\n",
    "                    header=True,\n",
    "                    inferSchema=True,\n",
    "                    escape=\"\\\"\")\n",
    "\n",
    "product_df.show(5)"
   ]
  },
  {
   "cell_type": "code",
   "execution_count": 7,
   "metadata": {},
   "outputs": [
    {
     "name": "stdout",
     "output_type": "stream",
     "text": [
      "Data shape: (185013, 15)\n",
      "+------------+-----------+---------------+---------------------+-------------+---------+----------------+---------------------------------+-------------------+----+-----+------------+------+----------------+--------------------+\n",
      "|  Product ID|Customer ID|Customer Status|Date Order was placed|Delivery Date| Order ID|Quantity Ordered|Total Retail Price for This Order|Cost Price Per Unit|Year|Month|Retail Price|Profit|Product Category|        Product Name|\n",
      "+------------+-----------+---------------+---------------------+-------------+---------+----------------+---------------------------------+-------------------+----+-----+------------+------+----------------+--------------------+\n",
      "|220101400106|        579|         Silver|           2017-01-01|   2017-01-07|123002578|               2|                             92.6|               20.7|2017|    1|        46.3|  51.2|         Clothes|Casual V-Neck Men...|\n",
      "|210201000009|       7574|         Silver|           2017-01-01|   2017-01-05|123004074|               1|                             21.7|               9.95|2017|    1|        21.7| 11.75| Children Sports|      Children's Tee|\n",
      "|230100500068|      28861|           Gold|           2017-01-01|   2017-01-04|123000871|               1|                              1.7|                0.8|2017|    1|         1.7|   0.9|        Outdoors|   Plate Picnic Deep|\n",
      "|220100100633|      43796|           Gold|           2017-01-01|   2017-01-06|123002851|               1|                             47.9|              24.05|2017|    1|        47.9| 23.85|         Clothes|Woman's Woven Pan...|\n",
      "|220200200043|      54673|           Gold|           2017-01-01|   2017-01-04|123003607|               1|                             36.9|               18.3|2017|    1|        36.9|  18.6|           Shoes|Soft Gel Court Me...|\n",
      "+------------+-----------+---------------+---------------------+-------------+---------+----------------+---------------------------------+-------------------+----+-----+------------+------+----------------+--------------------+\n",
      "only showing top 5 rows\n",
      "\n"
     ]
    }
   ],
   "source": [
    "data = (\n",
    "    order_df\n",
    "        .join(product_df.select(['Product ID', 'Product Category', 'Product Name']), ['Product ID'], \"inner\")\n",
    ")\n",
    "\n",
    "print('Data shape:', data_shape(data))\n",
    "data.show(5)"
   ]
  },
  {
   "cell_type": "code",
   "execution_count": 9,
   "metadata": {},
   "outputs": [
    {
     "name": "stderr",
     "output_type": "stream",
     "text": [
      "[Stage 35:==============>                                           (1 + 3) / 4]\r"
     ]
    },
    {
     "name": "stdout",
     "output_type": "stream",
     "text": [
      "+--------------------+-----------+\n",
      "|    Product Category|order_count|\n",
      "+--------------------+-----------+\n",
      "|             Clothes|       8495|\n",
      "|Assorted Sports A...|       6555|\n",
      "|            Outdoors|       6376|\n",
      "|               Shoes|       5749|\n",
      "|     Children Sports|       4286|\n",
      "|   Running - Jogging|       2385|\n",
      "|         Team Sports|       2210|\n",
      "|                Golf|       1975|\n",
      "|       Winter Sports|       1380|\n",
      "|         Swim Sports|       1273|\n",
      "|       Racket Sports|       1140|\n",
      "|       Indoor Sports|        741|\n",
      "+--------------------+-----------+\n",
      "\n"
     ]
    },
    {
     "name": "stderr",
     "output_type": "stream",
     "text": [
      "                                                                                \r"
     ]
    }
   ],
   "source": [
    "(data\n",
    " .where(col(\"Year\") == data.agg(max(\"Year\")).first()[0])\n",
    " .groupBy('Product Category')\n",
    " .agg(countDistinct('Order ID').alias('order_count'))\n",
    " .orderBy(desc('order_count'))\n",
    " .show())"
   ]
  },
  {
   "cell_type": "code",
   "execution_count": 10,
   "metadata": {},
   "outputs": [
    {
     "name": "stdout",
     "output_type": "stream",
     "text": [
      "+--------------------+------------------+\n",
      "|    Product Category| Profit Percentage|\n",
      "+--------------------+------------------+\n",
      "|                Golf|186.19153343202578|\n",
      "|       Racket Sports|147.65603964321014|\n",
      "|         Swim Sports|145.33596412556068|\n",
      "|       Winter Sports|129.28103099110254|\n",
      "|         Team Sports| 125.4462388966813|\n",
      "|       Indoor Sports|125.03395262267308|\n",
      "|   Running - Jogging|124.93439716312042|\n",
      "|     Children Sports| 122.1352568028199|\n",
      "|Assorted Sports A...| 121.6193153165702|\n",
      "|            Outdoors|117.88231860964807|\n",
      "|             Clothes|115.35514645855399|\n",
      "|               Shoes|108.22081746185043|\n",
      "+--------------------+------------------+\n",
      "\n"
     ]
    }
   ],
   "source": [
    "highest_profit = (\n",
    "    data\n",
    "        .withColumn('Profit Percentage', round((col('Profit')/(col('Cost Price Per Unit')*col('Quantity Ordered'))*100), 2))\n",
    ")\n",
    "\n",
    "(highest_profit\n",
    "    .groupBy('Product Category')\n",
    "    .agg(avg('Profit Percentage').alias('Profit Percentage'))\n",
    "    .orderBy(desc('Profit Percentage'))\n",
    "    .show()\n",
    ")"
   ]
  },
  {
   "cell_type": "code",
   "execution_count": 11,
   "metadata": {},
   "outputs": [
    {
     "name": "stderr",
     "output_type": "stream",
     "text": [
      "[Stage 55:==============>                                           (1 + 3) / 4]\r"
     ]
    },
    {
     "name": "stdout",
     "output_type": "stream",
     "text": [
      "+----+---------+---------+---------+---------+---------+---------+---------+---------+---------+---------+---------+---------+\n",
      "|Year|        1|        2|        3|        4|        5|        6|        7|        8|        9|       10|       11|       12|\n",
      "+----+---------+---------+---------+---------+---------+---------+---------+---------+---------+---------+---------+---------+\n",
      "|2017|153909.79|129366.52|120167.13|167710.82|199645.34|251354.17|251472.57|248404.12|112842.73|114810.39|123789.79|286332.76|\n",
      "|2018|194191.74|171451.95|143321.44|210249.63|235697.52|299586.31|293459.02|280581.83|126402.78|131107.86|150603.39|318792.81|\n",
      "|2019| 228332.4|178623.29|175367.26|249158.86|280930.36|363127.17|360574.94|368132.45|172742.85| 161674.3|187319.78|375474.32|\n",
      "|2020| 195579.2|165642.53|147670.29|211222.44|245290.48|305579.47|304995.39| 296333.1| 134534.4|143858.84|163874.75|336121.92|\n",
      "|2021| 228526.6|180991.77|149698.21|238447.93| 273397.5|337451.86|349282.53|346182.14|167139.59|174950.06|211018.27|493914.44|\n",
      "+----+---------+---------+---------+---------+---------+---------+---------+---------+---------+---------+---------+---------+\n",
      "\n"
     ]
    },
    {
     "name": "stderr",
     "output_type": "stream",
     "text": [
      "                                                                                \r"
     ]
    }
   ],
   "source": [
    "pivot_data = (\n",
    "    data\n",
    "        .groupBy('Year')\n",
    "        .pivot('Month')\n",
    "        .agg(round(sum('Profit'),2))\n",
    "        .sort('Year', ascending=True)\n",
    ")\n",
    "\n",
    "pivot_data.show()"
   ]
  },
  {
   "cell_type": "code",
   "execution_count": 224,
   "metadata": {},
   "outputs": [
    {
     "name": "stdout",
     "output_type": "stream",
     "text": [
      "+--------------------+--------------+-----------+\n",
      "|        Product Name|Total Quantity|Customer ID|\n",
      "+--------------------+--------------+-----------+\n",
      "|Petanque Balls Ch...|          1700|      49652|\n",
      "|     Comfort Shelter|          1252|      18671|\n",
      "|Lucky Tech Interg...|          1211|      52119|\n",
      "|         Hurricane 4|          1208|      21225|\n",
      "|Bulls Eye Stuart/...|          1173|      17757|\n",
      "|Big Guy Men's Air...|          1117|      85783|\n",
      "|    Family Holiday 4|          1078|      44252|\n",
      "|Expedition10,Medi...|          1043|      75653|\n",
      "|         Rain Jacket|          1030|      56906|\n",
      "|               Knife|           911|      47686|\n",
      "+--------------------+--------------+-----------+\n",
      "only showing top 10 rows\n",
      "\n"
     ]
    }
   ],
   "source": [
    "most_sold_products = (data\n",
    "    .groupBy(\"Product Name\")\n",
    "    .sum(\"Quantity Ordered\")\n",
    "    .orderBy(desc(\"sum(Quantity Ordered)\"))\n",
    ")\n",
    "\n",
    "from pyspark.sql.window import Window\n",
    "\n",
    "# calculate the total quantity ordered for each product\n",
    "product_quantity = (data\n",
    "                    # .filter(col(\"Year\") == 2021)\n",
    "                    .groupBy(\"Product Name\").agg(sum(\"Quantity Ordered\").alias(\"Total Quantity\")))\n",
    "\n",
    "# define a window partitioned by 'Product Name' and ordered by 'Quantity Ordered' in descending order\n",
    "window = Window.partitionBy(\"Product Name\").orderBy(desc(\"Quantity Ordered\"))\n",
    "\n",
    "# add a row number to each row within the window\n",
    "df = (data\n",
    "    #   .filter(col(\"Year\") == 2021)\n",
    "      .withColumn(\"row_number\", row_number().over(window)))\n",
    "\n",
    "# keep only the first row (the one with the highest 'Quantity Ordered') for each product\n",
    "top_customers = df.where(df.row_number == 1).select(\"Product Name\", \"Customer ID\")\n",
    "\n",
    "# (df\n",
    "#  .filter((col(\"Product Name\") == \"Pacific 95% 23 Gram\") & (col(\"Year\") == 2021) & (col(\"Customer ID\")== 3436))\n",
    "# #  .groupBy(\"Customer ID\")\n",
    "# #  .agg({\"Customer ID\": \"count\"})\n",
    "# #  .filter(col(\"count(Customer ID)\") > 1)\n",
    "# #  .select(\"Customer ID\")\n",
    "\n",
    "# #  .groupBy('Customer ID')\n",
    "# #  .sum(\"Quantity Ordered\")\n",
    "# #  .sort('sum(Quantity Ordered)', ascending=False)\n",
    "#  .show()\n",
    "# )\n",
    "# join product_quantity with top_customers\n",
    "result = (product_quantity\n",
    "            .join(top_customers, \"Product Name\")\n",
    "            .sort(col(\"Total Quantity\"), ascending=False)\n",
    "\n",
    ")\n",
    "\n",
    "result.show(10)"
   ]
  },
  {
   "cell_type": "code",
   "execution_count": 88,
   "metadata": {},
   "outputs": [
    {
     "name": "stdout",
     "output_type": "stream",
     "text": [
      "+-----------+--------------------+--------------+----------+\n",
      "|Customer ID|        Product Name|Total Quantity|row_number|\n",
      "+-----------+--------------------+--------------+----------+\n",
      "|      61138|11m Liga Football...|             3|         1|\n",
      "|      92694|11m Liga Football...|             3|         2|\n",
      "|      52975|11m Liga Football...|             3|         3|\n",
      "|      92419|11m Liga Football...|             2|         4|\n",
      "|      48265|11m Liga Football...|             2|         5|\n",
      "+-----------+--------------------+--------------+----------+\n",
      "only showing top 5 rows\n",
      "\n"
     ]
    },
    {
     "ename": "AnalysisException",
     "evalue": "[UNRESOLVED_COLUMN.WITH_SUGGESTION] A column or function parameter with name `Total Quantity` cannot be resolved. Did you mean one of the following? [`Total Quantity`, `Total Quantity`, `Product Name`, `Customer ID`].;\n'Sort ['Total Quantity DESC NULLS LAST], true\n+- Project [Product Name#875, Total Quantity#6706L, Customer ID#6767, Total Quantity#6725L]\n   +- Join Inner, (Product Name#875 = Product Name#6780)\n      :- Aggregate [Product Name#875], [Product Name#875, sum(Quantity Ordered#23) AS Total Quantity#6706L]\n      :  +- Project [Product ID#22L, Customer ID#17, Customer Status#753, Date Order was placed#710, Delivery Date#720, Order ID#21, Quantity Ordered#23, Total Retail Price for This Order#24, Cost Price Per Unit#25, Year#730, Month#741, Retail Price#765, Profit#778, Product Category#873, Product Name#875]\n      :     +- Join Inner, (Product ID#22L = Product ID#871L)\n      :        :- Project [Customer ID#17, Customer Status#753, Date Order was placed#710, Delivery Date#720, Order ID#21, Product ID#22L, Quantity Ordered#23, Total Retail Price for This Order#24, Cost Price Per Unit#25, Year#730, Month#741, Retail Price#765, round((Total Retail Price for This Order#24 - (Cost Price Per Unit#25 * cast(Quantity Ordered#23 as double))), 2) AS Profit#778]\n      :        :  +- Project [Customer ID#17, Customer Status#753, Date Order was placed#710, Delivery Date#720, Order ID#21, Product ID#22L, Quantity Ordered#23, Total Retail Price for This Order#24, Cost Price Per Unit#25, Year#730, Month#741, (Total Retail Price for This Order#24 / cast(Quantity Ordered#23 as double)) AS Retail Price#765]\n      :        :     +- Project [Customer ID#17, initcap(Customer Status#18) AS Customer Status#753, Date Order was placed#710, Delivery Date#720, Order ID#21, Product ID#22L, Quantity Ordered#23, Total Retail Price for This Order#24, Cost Price Per Unit#25, Year#730, Month#741]\n      :        :        +- Project [Customer ID#17, Customer Status#18, Date Order was placed#710, Delivery Date#720, Order ID#21, Product ID#22L, Quantity Ordered#23, Total Retail Price for This Order#24, Cost Price Per Unit#25, Year#730, month(Date Order was placed#710) AS Month#741]\n      :        :           +- Project [Customer ID#17, Customer Status#18, Date Order was placed#710, Delivery Date#720, Order ID#21, Product ID#22L, Quantity Ordered#23, Total Retail Price for This Order#24, Cost Price Per Unit#25, year(Date Order was placed#710) AS Year#730]\n      :        :              +- Project [Customer ID#17, Customer Status#18, Date Order was placed#710, to_date(Delivery Date#20, Some(dd-MMM-yy), Some(Asia/Jakarta), false) AS Delivery Date#720, Order ID#21, Product ID#22L, Quantity Ordered#23, Total Retail Price for This Order#24, Cost Price Per Unit#25]\n      :        :                 +- Project [Customer ID#17, Customer Status#18, to_date(Date Order was placed#19, Some(dd-MMM-yy), Some(Asia/Jakarta), false) AS Date Order was placed#710, Delivery Date#20, Order ID#21, Product ID#22L, Quantity Ordered#23, Total Retail Price for This Order#24, Cost Price Per Unit#25]\n      :        :                    +- Relation [Customer ID#17,Customer Status#18,Date Order was placed#19,Delivery Date#20,Order ID#21,Product ID#22L,Quantity Ordered#23,Total Retail Price for This Order#24,Cost Price Per Unit#25] csv\n      :        +- Project [Product ID#871L, Product Category#873, Product Name#875]\n      :           +- Relation [Product ID#871L,Product Line#872,Product Category#873,Product Group#874,Product Name#875,Supplier Country#876,Supplier Name#877,Supplier ID#878] csv\n      +- Project [Product Name#6780, Customer ID#6767, Total Quantity#6725L]\n         +- Filter (row_number#6730 = 1)\n            +- Project [Customer ID#6767, Product Name#6780, Total Quantity#6725L, row_number#6730]\n               +- Project [Customer ID#6767, Product Name#6780, Total Quantity#6725L, row_number#6730, row_number#6730]\n                  +- Window [row_number() windowspecdefinition(Product Name#6780, Total Quantity#6725L DESC NULLS LAST, specifiedwindowframe(RowFrame, unboundedpreceding$(), currentrow$())) AS row_number#6730], [Product Name#6780], [Total Quantity#6725L DESC NULLS LAST]\n                     +- Project [Customer ID#6767, Product Name#6780, Total Quantity#6725L]\n                        +- Aggregate [Customer ID#6767, Product Name#6780], [Customer ID#6767, Product Name#6780, sum(Quantity Ordered#6773) AS Total Quantity#6725L]\n                           +- Project [Product ID#6772L, Customer ID#6767, Customer Status#753, Date Order was placed#710, Delivery Date#720, Order ID#6771, Quantity Ordered#6773, Total Retail Price for This Order#6774, Cost Price Per Unit#6775, Year#730, Month#741, Retail Price#765, Profit#778, Product Category#6778, Product Name#6780]\n                              +- Join Inner, (Product ID#6772L = Product ID#6776L)\n                                 :- Project [Customer ID#6767, Customer Status#753, Date Order was placed#710, Delivery Date#720, Order ID#6771, Product ID#6772L, Quantity Ordered#6773, Total Retail Price for This Order#6774, Cost Price Per Unit#6775, Year#730, Month#741, Retail Price#765, round((Total Retail Price for This Order#6774 - (Cost Price Per Unit#6775 * cast(Quantity Ordered#6773 as double))), 2) AS Profit#778]\n                                 :  +- Project [Customer ID#6767, Customer Status#753, Date Order was placed#710, Delivery Date#720, Order ID#6771, Product ID#6772L, Quantity Ordered#6773, Total Retail Price for This Order#6774, Cost Price Per Unit#6775, Year#730, Month#741, (Total Retail Price for This Order#6774 / cast(Quantity Ordered#6773 as double)) AS Retail Price#765]\n                                 :     +- Project [Customer ID#6767, initcap(Customer Status#6768) AS Customer Status#753, Date Order was placed#710, Delivery Date#720, Order ID#6771, Product ID#6772L, Quantity Ordered#6773, Total Retail Price for This Order#6774, Cost Price Per Unit#6775, Year#730, Month#741]\n                                 :        +- Project [Customer ID#6767, Customer Status#6768, Date Order was placed#710, Delivery Date#720, Order ID#6771, Product ID#6772L, Quantity Ordered#6773, Total Retail Price for This Order#6774, Cost Price Per Unit#6775, Year#730, month(Date Order was placed#710) AS Month#741]\n                                 :           +- Project [Customer ID#6767, Customer Status#6768, Date Order was placed#710, Delivery Date#720, Order ID#6771, Product ID#6772L, Quantity Ordered#6773, Total Retail Price for This Order#6774, Cost Price Per Unit#6775, year(Date Order was placed#710) AS Year#730]\n                                 :              +- Project [Customer ID#6767, Customer Status#6768, Date Order was placed#710, to_date(Delivery Date#6770, Some(dd-MMM-yy), Some(Asia/Jakarta), false) AS Delivery Date#720, Order ID#6771, Product ID#6772L, Quantity Ordered#6773, Total Retail Price for This Order#6774, Cost Price Per Unit#6775]\n                                 :                 +- Project [Customer ID#6767, Customer Status#6768, to_date(Date Order was placed#6769, Some(dd-MMM-yy), Some(Asia/Jakarta), false) AS Date Order was placed#710, Delivery Date#6770, Order ID#6771, Product ID#6772L, Quantity Ordered#6773, Total Retail Price for This Order#6774, Cost Price Per Unit#6775]\n                                 :                    +- Relation [Customer ID#6767,Customer Status#6768,Date Order was placed#6769,Delivery Date#6770,Order ID#6771,Product ID#6772L,Quantity Ordered#6773,Total Retail Price for This Order#6774,Cost Price Per Unit#6775] csv\n                                 +- Project [Product ID#6776L, Product Category#6778, Product Name#6780]\n                                    +- Relation [Product ID#6776L,Product Line#6777,Product Category#6778,Product Group#6779,Product Name#6780,Supplier Country#6781,Supplier Name#6782,Supplier ID#6783] csv\n",
     "output_type": "error",
     "traceback": [
      "\u001b[0;31m---------------------------------------------------------------------------\u001b[0m",
      "\u001b[0;31mAnalysisException\u001b[0m                         Traceback (most recent call last)",
      "\u001b[1;32m/Users/dickyalsyah/Documents/Portfolio/Test/analysis.ipynb Cell 12\u001b[0m line \u001b[0;36m2\n\u001b[1;32m     <a href='vscode-notebook-cell:/Users/dickyalsyah/Documents/Portfolio/Test/analysis.ipynb#X31sZmlsZQ%3D%3D?line=17'>18</a>\u001b[0m top_buyer\u001b[39m.\u001b[39mshow(\u001b[39m5\u001b[39m)\n\u001b[1;32m     <a href='vscode-notebook-cell:/Users/dickyalsyah/Documents/Portfolio/Test/analysis.ipynb#X31sZmlsZQ%3D%3D?line=19'>20</a>\u001b[0m top_customers \u001b[39m=\u001b[39m top_buyer\u001b[39m.\u001b[39mwhere(top_buyer\u001b[39m.\u001b[39mrow_number \u001b[39m==\u001b[39m \u001b[39m1\u001b[39m)\u001b[39m.\u001b[39mselect(\u001b[39m\"\u001b[39m\u001b[39mProduct Name\u001b[39m\u001b[39m\"\u001b[39m, \u001b[39m\"\u001b[39m\u001b[39mCustomer ID\u001b[39m\u001b[39m\"\u001b[39m, \u001b[39m\"\u001b[39m\u001b[39mTotal Quantity\u001b[39m\u001b[39m\"\u001b[39m)\n\u001b[1;32m     <a href='vscode-notebook-cell:/Users/dickyalsyah/Documents/Portfolio/Test/analysis.ipynb#X31sZmlsZQ%3D%3D?line=21'>22</a>\u001b[0m most_sold_products \u001b[39m=\u001b[39m (\n\u001b[0;32m---> <a href='vscode-notebook-cell:/Users/dickyalsyah/Documents/Portfolio/Test/analysis.ipynb#X31sZmlsZQ%3D%3D?line=22'>23</a>\u001b[0m     product_quantity\n\u001b[1;32m     <a href='vscode-notebook-cell:/Users/dickyalsyah/Documents/Portfolio/Test/analysis.ipynb#X31sZmlsZQ%3D%3D?line=23'>24</a>\u001b[0m       \u001b[39m.\u001b[39;49mjoin(top_customers, \u001b[39m\"\u001b[39;49m\u001b[39mProduct Name\u001b[39;49m\u001b[39m\"\u001b[39;49m)\n\u001b[1;32m     <a href='vscode-notebook-cell:/Users/dickyalsyah/Documents/Portfolio/Test/analysis.ipynb#X31sZmlsZQ%3D%3D?line=24'>25</a>\u001b[0m       \u001b[39m.\u001b[39;49msort(col(\u001b[39m\"\u001b[39;49m\u001b[39mTotal Quantity\u001b[39;49m\u001b[39m\"\u001b[39;49m), ascending\u001b[39m=\u001b[39;49m\u001b[39mFalse\u001b[39;49;00m)\n\u001b[1;32m     <a href='vscode-notebook-cell:/Users/dickyalsyah/Documents/Portfolio/Test/analysis.ipynb#X31sZmlsZQ%3D%3D?line=25'>26</a>\u001b[0m )\n\u001b[1;32m     <a href='vscode-notebook-cell:/Users/dickyalsyah/Documents/Portfolio/Test/analysis.ipynb#X31sZmlsZQ%3D%3D?line=27'>28</a>\u001b[0m most_sold_products\u001b[39m.\u001b[39mshow(\u001b[39m10\u001b[39m)\n",
      "File \u001b[0;32m~/Documents/Portfolio/Test/.env/lib/python3.9/site-packages/pyspark/sql/dataframe.py:2736\u001b[0m, in \u001b[0;36mDataFrame.sort\u001b[0;34m(self, *cols, **kwargs)\u001b[0m\n\u001b[1;32m   2645\u001b[0m \u001b[39mdef\u001b[39;00m \u001b[39msort\u001b[39m(\n\u001b[1;32m   2646\u001b[0m     \u001b[39mself\u001b[39m, \u001b[39m*\u001b[39mcols: Union[\u001b[39mstr\u001b[39m, Column, List[Union[\u001b[39mstr\u001b[39m, Column]]], \u001b[39m*\u001b[39m\u001b[39m*\u001b[39mkwargs: Any\n\u001b[1;32m   2647\u001b[0m ) \u001b[39m-\u001b[39m\u001b[39m>\u001b[39m \u001b[39m\"\u001b[39m\u001b[39mDataFrame\u001b[39m\u001b[39m\"\u001b[39m:\n\u001b[1;32m   2648\u001b[0m \u001b[39m    \u001b[39m\u001b[39m\"\"\"Returns a new :class:`DataFrame` sorted by the specified column(s).\u001b[39;00m\n\u001b[1;32m   2649\u001b[0m \n\u001b[1;32m   2650\u001b[0m \u001b[39m    .. versionadded:: 1.3.0\u001b[39;00m\n\u001b[0;32m   (...)\u001b[0m\n\u001b[1;32m   2734\u001b[0m \u001b[39m    +---+-----+\u001b[39;00m\n\u001b[1;32m   2735\u001b[0m \u001b[39m    \"\"\"\u001b[39;00m\n\u001b[0;32m-> 2736\u001b[0m     jdf \u001b[39m=\u001b[39m \u001b[39mself\u001b[39;49m\u001b[39m.\u001b[39;49m_jdf\u001b[39m.\u001b[39;49msort(\u001b[39mself\u001b[39;49m\u001b[39m.\u001b[39;49m_sort_cols(cols, kwargs))\n\u001b[1;32m   2737\u001b[0m     \u001b[39mreturn\u001b[39;00m DataFrame(jdf, \u001b[39mself\u001b[39m\u001b[39m.\u001b[39msparkSession)\n",
      "File \u001b[0;32m~/Documents/Portfolio/Test/.env/lib/python3.9/site-packages/py4j/java_gateway.py:1322\u001b[0m, in \u001b[0;36mJavaMember.__call__\u001b[0;34m(self, *args)\u001b[0m\n\u001b[1;32m   1316\u001b[0m command \u001b[39m=\u001b[39m proto\u001b[39m.\u001b[39mCALL_COMMAND_NAME \u001b[39m+\u001b[39m\\\n\u001b[1;32m   1317\u001b[0m     \u001b[39mself\u001b[39m\u001b[39m.\u001b[39mcommand_header \u001b[39m+\u001b[39m\\\n\u001b[1;32m   1318\u001b[0m     args_command \u001b[39m+\u001b[39m\\\n\u001b[1;32m   1319\u001b[0m     proto\u001b[39m.\u001b[39mEND_COMMAND_PART\n\u001b[1;32m   1321\u001b[0m answer \u001b[39m=\u001b[39m \u001b[39mself\u001b[39m\u001b[39m.\u001b[39mgateway_client\u001b[39m.\u001b[39msend_command(command)\n\u001b[0;32m-> 1322\u001b[0m return_value \u001b[39m=\u001b[39m get_return_value(\n\u001b[1;32m   1323\u001b[0m     answer, \u001b[39mself\u001b[39;49m\u001b[39m.\u001b[39;49mgateway_client, \u001b[39mself\u001b[39;49m\u001b[39m.\u001b[39;49mtarget_id, \u001b[39mself\u001b[39;49m\u001b[39m.\u001b[39;49mname)\n\u001b[1;32m   1325\u001b[0m \u001b[39mfor\u001b[39;00m temp_arg \u001b[39min\u001b[39;00m temp_args:\n\u001b[1;32m   1326\u001b[0m     \u001b[39mif\u001b[39;00m \u001b[39mhasattr\u001b[39m(temp_arg, \u001b[39m\"\u001b[39m\u001b[39m_detach\u001b[39m\u001b[39m\"\u001b[39m):\n",
      "File \u001b[0;32m~/Documents/Portfolio/Test/.env/lib/python3.9/site-packages/pyspark/errors/exceptions/captured.py:185\u001b[0m, in \u001b[0;36mcapture_sql_exception.<locals>.deco\u001b[0;34m(*a, **kw)\u001b[0m\n\u001b[1;32m    181\u001b[0m converted \u001b[39m=\u001b[39m convert_exception(e\u001b[39m.\u001b[39mjava_exception)\n\u001b[1;32m    182\u001b[0m \u001b[39mif\u001b[39;00m \u001b[39mnot\u001b[39;00m \u001b[39misinstance\u001b[39m(converted, UnknownException):\n\u001b[1;32m    183\u001b[0m     \u001b[39m# Hide where the exception came from that shows a non-Pythonic\u001b[39;00m\n\u001b[1;32m    184\u001b[0m     \u001b[39m# JVM exception message.\u001b[39;00m\n\u001b[0;32m--> 185\u001b[0m     \u001b[39mraise\u001b[39;00m converted \u001b[39mfrom\u001b[39;00m \u001b[39mNone\u001b[39;00m\n\u001b[1;32m    186\u001b[0m \u001b[39melse\u001b[39;00m:\n\u001b[1;32m    187\u001b[0m     \u001b[39mraise\u001b[39;00m\n",
      "\u001b[0;31mAnalysisException\u001b[0m: [UNRESOLVED_COLUMN.WITH_SUGGESTION] A column or function parameter with name `Total Quantity` cannot be resolved. Did you mean one of the following? [`Total Quantity`, `Total Quantity`, `Product Name`, `Customer ID`].;\n'Sort ['Total Quantity DESC NULLS LAST], true\n+- Project [Product Name#875, Total Quantity#6706L, Customer ID#6767, Total Quantity#6725L]\n   +- Join Inner, (Product Name#875 = Product Name#6780)\n      :- Aggregate [Product Name#875], [Product Name#875, sum(Quantity Ordered#23) AS Total Quantity#6706L]\n      :  +- Project [Product ID#22L, Customer ID#17, Customer Status#753, Date Order was placed#710, Delivery Date#720, Order ID#21, Quantity Ordered#23, Total Retail Price for This Order#24, Cost Price Per Unit#25, Year#730, Month#741, Retail Price#765, Profit#778, Product Category#873, Product Name#875]\n      :     +- Join Inner, (Product ID#22L = Product ID#871L)\n      :        :- Project [Customer ID#17, Customer Status#753, Date Order was placed#710, Delivery Date#720, Order ID#21, Product ID#22L, Quantity Ordered#23, Total Retail Price for This Order#24, Cost Price Per Unit#25, Year#730, Month#741, Retail Price#765, round((Total Retail Price for This Order#24 - (Cost Price Per Unit#25 * cast(Quantity Ordered#23 as double))), 2) AS Profit#778]\n      :        :  +- Project [Customer ID#17, Customer Status#753, Date Order was placed#710, Delivery Date#720, Order ID#21, Product ID#22L, Quantity Ordered#23, Total Retail Price for This Order#24, Cost Price Per Unit#25, Year#730, Month#741, (Total Retail Price for This Order#24 / cast(Quantity Ordered#23 as double)) AS Retail Price#765]\n      :        :     +- Project [Customer ID#17, initcap(Customer Status#18) AS Customer Status#753, Date Order was placed#710, Delivery Date#720, Order ID#21, Product ID#22L, Quantity Ordered#23, Total Retail Price for This Order#24, Cost Price Per Unit#25, Year#730, Month#741]\n      :        :        +- Project [Customer ID#17, Customer Status#18, Date Order was placed#710, Delivery Date#720, Order ID#21, Product ID#22L, Quantity Ordered#23, Total Retail Price for This Order#24, Cost Price Per Unit#25, Year#730, month(Date Order was placed#710) AS Month#741]\n      :        :           +- Project [Customer ID#17, Customer Status#18, Date Order was placed#710, Delivery Date#720, Order ID#21, Product ID#22L, Quantity Ordered#23, Total Retail Price for This Order#24, Cost Price Per Unit#25, year(Date Order was placed#710) AS Year#730]\n      :        :              +- Project [Customer ID#17, Customer Status#18, Date Order was placed#710, to_date(Delivery Date#20, Some(dd-MMM-yy), Some(Asia/Jakarta), false) AS Delivery Date#720, Order ID#21, Product ID#22L, Quantity Ordered#23, Total Retail Price for This Order#24, Cost Price Per Unit#25]\n      :        :                 +- Project [Customer ID#17, Customer Status#18, to_date(Date Order was placed#19, Some(dd-MMM-yy), Some(Asia/Jakarta), false) AS Date Order was placed#710, Delivery Date#20, Order ID#21, Product ID#22L, Quantity Ordered#23, Total Retail Price for This Order#24, Cost Price Per Unit#25]\n      :        :                    +- Relation [Customer ID#17,Customer Status#18,Date Order was placed#19,Delivery Date#20,Order ID#21,Product ID#22L,Quantity Ordered#23,Total Retail Price for This Order#24,Cost Price Per Unit#25] csv\n      :        +- Project [Product ID#871L, Product Category#873, Product Name#875]\n      :           +- Relation [Product ID#871L,Product Line#872,Product Category#873,Product Group#874,Product Name#875,Supplier Country#876,Supplier Name#877,Supplier ID#878] csv\n      +- Project [Product Name#6780, Customer ID#6767, Total Quantity#6725L]\n         +- Filter (row_number#6730 = 1)\n            +- Project [Customer ID#6767, Product Name#6780, Total Quantity#6725L, row_number#6730]\n               +- Project [Customer ID#6767, Product Name#6780, Total Quantity#6725L, row_number#6730, row_number#6730]\n                  +- Window [row_number() windowspecdefinition(Product Name#6780, Total Quantity#6725L DESC NULLS LAST, specifiedwindowframe(RowFrame, unboundedpreceding$(), currentrow$())) AS row_number#6730], [Product Name#6780], [Total Quantity#6725L DESC NULLS LAST]\n                     +- Project [Customer ID#6767, Product Name#6780, Total Quantity#6725L]\n                        +- Aggregate [Customer ID#6767, Product Name#6780], [Customer ID#6767, Product Name#6780, sum(Quantity Ordered#6773) AS Total Quantity#6725L]\n                           +- Project [Product ID#6772L, Customer ID#6767, Customer Status#753, Date Order was placed#710, Delivery Date#720, Order ID#6771, Quantity Ordered#6773, Total Retail Price for This Order#6774, Cost Price Per Unit#6775, Year#730, Month#741, Retail Price#765, Profit#778, Product Category#6778, Product Name#6780]\n                              +- Join Inner, (Product ID#6772L = Product ID#6776L)\n                                 :- Project [Customer ID#6767, Customer Status#753, Date Order was placed#710, Delivery Date#720, Order ID#6771, Product ID#6772L, Quantity Ordered#6773, Total Retail Price for This Order#6774, Cost Price Per Unit#6775, Year#730, Month#741, Retail Price#765, round((Total Retail Price for This Order#6774 - (Cost Price Per Unit#6775 * cast(Quantity Ordered#6773 as double))), 2) AS Profit#778]\n                                 :  +- Project [Customer ID#6767, Customer Status#753, Date Order was placed#710, Delivery Date#720, Order ID#6771, Product ID#6772L, Quantity Ordered#6773, Total Retail Price for This Order#6774, Cost Price Per Unit#6775, Year#730, Month#741, (Total Retail Price for This Order#6774 / cast(Quantity Ordered#6773 as double)) AS Retail Price#765]\n                                 :     +- Project [Customer ID#6767, initcap(Customer Status#6768) AS Customer Status#753, Date Order was placed#710, Delivery Date#720, Order ID#6771, Product ID#6772L, Quantity Ordered#6773, Total Retail Price for This Order#6774, Cost Price Per Unit#6775, Year#730, Month#741]\n                                 :        +- Project [Customer ID#6767, Customer Status#6768, Date Order was placed#710, Delivery Date#720, Order ID#6771, Product ID#6772L, Quantity Ordered#6773, Total Retail Price for This Order#6774, Cost Price Per Unit#6775, Year#730, month(Date Order was placed#710) AS Month#741]\n                                 :           +- Project [Customer ID#6767, Customer Status#6768, Date Order was placed#710, Delivery Date#720, Order ID#6771, Product ID#6772L, Quantity Ordered#6773, Total Retail Price for This Order#6774, Cost Price Per Unit#6775, year(Date Order was placed#710) AS Year#730]\n                                 :              +- Project [Customer ID#6767, Customer Status#6768, Date Order was placed#710, to_date(Delivery Date#6770, Some(dd-MMM-yy), Some(Asia/Jakarta), false) AS Delivery Date#720, Order ID#6771, Product ID#6772L, Quantity Ordered#6773, Total Retail Price for This Order#6774, Cost Price Per Unit#6775]\n                                 :                 +- Project [Customer ID#6767, Customer Status#6768, to_date(Date Order was placed#6769, Some(dd-MMM-yy), Some(Asia/Jakarta), false) AS Date Order was placed#710, Delivery Date#6770, Order ID#6771, Product ID#6772L, Quantity Ordered#6773, Total Retail Price for This Order#6774, Cost Price Per Unit#6775]\n                                 :                    +- Relation [Customer ID#6767,Customer Status#6768,Date Order was placed#6769,Delivery Date#6770,Order ID#6771,Product ID#6772L,Quantity Ordered#6773,Total Retail Price for This Order#6774,Cost Price Per Unit#6775] csv\n                                 +- Project [Product ID#6776L, Product Category#6778, Product Name#6780]\n                                    +- Relation [Product ID#6776L,Product Line#6777,Product Category#6778,Product Group#6779,Product Name#6780,Supplier Country#6781,Supplier Name#6782,Supplier ID#6783] csv\n"
     ]
    }
   ],
   "source": [
    "from pyspark.sql.window import Window\n",
    "\n",
    "# calculate the total quantity ordered for each product\n",
    "product_quantity = (data\n",
    "                    # .filter(col(\"Year\") == 2021)\n",
    "                    .groupBy(\"Product Name\").agg(sum(\"Quantity Ordered\").alias(\"Total Quantity\")))\n",
    "\n",
    "window = Window.partitionBy(\"Product Name\").orderBy(desc(\"Total Quantity\"))\n",
    "\n",
    "top_buyer = (\n",
    "    data\n",
    "        # .filter(col(\"Year\") == 2021)\n",
    "        .groupBy([\"Customer ID\", \"Product Name\"])\n",
    "        .agg(sum(\"Quantity Ordered\").alias(\"Total Quantity\"))\n",
    "        .withColumn(\"row_number\", row_number().over(window))\n",
    ")\n",
    "\n",
    "top_buyer.show(5)\n",
    "\n",
    "top_customers = top_buyer.where(top_buyer.row_number == 1).select(\"Product Name\", \"Customer ID\", \"Total Quantity\")\n",
    "\n",
    "most_sold_products = (\n",
    "    product_quantity\n",
    "      .join(top_customers, \"Product Name\")\n",
    "      .sort(col(\"Total Quantity\"), ascending=False)\n",
    ")\n",
    "\n",
    "most_sold_products.show(10)"
   ]
  },
  {
   "cell_type": "code",
   "execution_count": 14,
   "metadata": {},
   "outputs": [
    {
     "name": "stderr",
     "output_type": "stream",
     "text": [
      "                                                                                \r"
     ]
    },
    {
     "name": "stdout",
     "output_type": "stream",
     "text": [
      "Data shape: (60, 3)\n"
     ]
    },
    {
     "name": "stderr",
     "output_type": "stream",
     "text": [
      "[Stage 90:==============>                                           (1 + 3) / 4]\r"
     ]
    },
    {
     "name": "stdout",
     "output_type": "stream",
     "text": [
      "+----+-----+-----------+\n",
      "|Year|Month|total_Sales|\n",
      "+----+-----+-----------+\n",
      "|2017|    1|  286772.78|\n",
      "|2017|    2|  239348.83|\n",
      "|2017|    3|  224318.98|\n",
      "|2017|    4|  319435.68|\n",
      "|2017|    5|  376750.05|\n",
      "|2017|    6|   473481.0|\n",
      "|2017|    7|  477803.43|\n",
      "|2017|    8|   470162.0|\n",
      "|2017|    9|  210577.32|\n",
      "|2017|   10|  214402.82|\n",
      "|2017|   11|   230338.9|\n",
      "|2017|   12|  530912.75|\n",
      "+----+-----+-----------+\n",
      "only showing top 12 rows\n",
      "\n"
     ]
    },
    {
     "name": "stderr",
     "output_type": "stream",
     "text": [
      "                                                                                \r"
     ]
    }
   ],
   "source": [
    "grouped_data = (\n",
    "    data\n",
    "        .groupBy(['Year', 'Month'])\n",
    "        .agg(round(sum('Total Retail Price for This Order'),2).alias('total_Sales'))\n",
    "        .sort(['Year', 'Month'], ascending=[True, True])\n",
    ")\n",
    "\n",
    "print('Data shape:', data_shape(grouped_data))\n",
    "grouped_data.show(12)"
   ]
  },
  {
   "cell_type": "code",
   "execution_count": 15,
   "metadata": {},
   "outputs": [
    {
     "name": "stderr",
     "output_type": "stream",
     "text": [
      "                                                                                \r"
     ]
    },
    {
     "name": "stdout",
     "output_type": "stream",
     "text": [
      "Data shape: (60, 2)\n"
     ]
    },
    {
     "name": "stderr",
     "output_type": "stream",
     "text": [
      "[Stage 101:==============>                                          (1 + 3) / 4]\r"
     ]
    },
    {
     "name": "stdout",
     "output_type": "stream",
     "text": [
      "+----------+----------------------+\n",
      "|Year-Month|pct_change_total_Sales|\n",
      "+----------+----------------------+\n",
      "|    2017-1|                   0.0|\n",
      "|    2017-2|                -16.54|\n",
      "|    2017-3|                 -6.28|\n",
      "|    2017-4|                  42.4|\n",
      "|    2017-5|                 17.94|\n",
      "|    2017-6|                 25.68|\n",
      "|    2017-7|                  0.91|\n",
      "|    2017-8|                  -1.6|\n",
      "|    2017-9|                -55.21|\n",
      "|   2017-10|                  1.82|\n",
      "|   2017-11|                  7.43|\n",
      "|   2017-12|                130.49|\n",
      "+----------+----------------------+\n",
      "only showing top 12 rows\n",
      "\n"
     ]
    },
    {
     "name": "stderr",
     "output_type": "stream",
     "text": [
      "                                                                                \r"
     ]
    }
   ],
   "source": [
    "from pyspark.sql.window import Window\n",
    "\n",
    "window_spec = Window.partitionBy('Year').orderBy('Month')\n",
    "\n",
    "partition_data = (\n",
    "    grouped_data\n",
    "        .withColumn(\"prev_total_Sales\", \n",
    "                    lag(col('total_Sales')).over(window_spec))\n",
    "        .withColumn(\"diff_total_Sales\", \n",
    "                    when(isnull(col('total_Sales')-col('prev_total_Sales')), 0)\n",
    "                    .otherwise(col('total_Sales')-col('prev_total_Sales')))\n",
    "        .withColumn(\"pct_change_total_Sales\", \n",
    "                    when(isnull(col('diff_total_Sales')/col('prev_total_Sales')), 0.0)\n",
    "                    .otherwise(100.0*col('diff_total_Sales')/col('prev_total_Sales')))\n",
    "        .withColumn(\"pct_change_total_Sales\", round(col('pct_change_total_Sales'), 2))\n",
    "        .withColumn(\"Year-Month\", concat_ws(\"-\", *[\"Year\", \"Month\"]))\n",
    "        .select(['Year-Month', 'pct_change_total_Sales'])\n",
    ")\n",
    "\n",
    "print('Data shape:', data_shape(partition_data))\n",
    "partition_data.show(12)"
   ]
  },
  {
   "cell_type": "markdown",
   "metadata": {},
   "source": [
    "## Recency"
   ]
  },
  {
   "cell_type": "code",
   "execution_count": 112,
   "metadata": {},
   "outputs": [
    {
     "name": "stderr",
     "output_type": "stream",
     "text": [
      "                                                                                \r"
     ]
    }
   ],
   "source": [
    "window_spec = Window.rowsBetween(Window.unboundedPreceding, Window.unboundedFollowing)\n",
    "\n",
    "import datetime\n",
    "# Reference date for calculating recency\n",
    "reference_date = data.selectExpr(\"min(`Date Order was placed`)\").collect()[0][0]\n",
    "\n",
    "df2 = data.withColumn(\"Recency\", datediff(col(\"Date Order was placed\"), lit(reference_date)))\n",
    "\n",
    "# df2 = df2.join(df2.groupBy('Customer ID').agg(max('Recency').alias('Recency')), on='Recency', how='leftsemi')\n",
    "\n",
    "# df2.show(5)"
   ]
  },
  {
   "cell_type": "code",
   "execution_count": 113,
   "metadata": {},
   "outputs": [
    {
     "name": "stderr",
     "output_type": "stream",
     "text": [
      "[Stage 585:==============>                                          (1 + 3) / 4]\r"
     ]
    },
    {
     "name": "stdout",
     "output_type": "stream",
     "text": [
      "+-----------+-------+---------+------------------+\n",
      "|Customer ID|Recency|Frequency|          Monetary|\n",
      "+-----------+-------+---------+------------------+\n",
      "|      54264|    883|        3|360.59999999999997|\n",
      "|      40335|    369|        4|             531.3|\n",
      "|      35071|   1773|        7|            2373.1|\n",
      "|      43302|   1745|        4|             330.1|\n",
      "|      35820|    592|        2|            190.75|\n",
      "+-----------+-------+---------+------------------+\n",
      "only showing top 5 rows\n",
      "\n"
     ]
    },
    {
     "name": "stderr",
     "output_type": "stream",
     "text": [
      "                                                                                \r"
     ]
    }
   ],
   "source": [
    "rfm_table = df2.groupBy(\"Customer ID\")\\\n",
    ".agg(max(\"Recency\").alias(\"Recency\"),\\\n",
    "     count(\"Order ID\").alias(\"Frequency\"),\\\n",
    "     sum(\"Total Retail Price for This Order\").alias(\"Monetary\"))\n",
    "\n",
    "rfm_table.show(5)"
   ]
  },
  {
   "cell_type": "code",
   "execution_count": 116,
   "metadata": {},
   "outputs": [
    {
     "data": {
      "text/plain": [
       "56027"
      ]
     },
     "execution_count": 116,
     "metadata": {},
     "output_type": "execute_result"
    }
   ],
   "source": [
    "df2.select(\"Customer ID\").distinct().count()"
   ]
  },
  {
   "cell_type": "code",
   "execution_count": 118,
   "metadata": {},
   "outputs": [
    {
     "name": "stdout",
     "output_type": "stream",
     "text": [
      "+-----------+-------+---------+------------------+\n",
      "|Customer ID|Recency|Frequency|          Monetary|\n",
      "+-----------+-------+---------+------------------+\n",
      "|      48254|   1398|        4|337.29999999999995|\n",
      "+-----------+-------+---------+------------------+\n",
      "\n"
     ]
    }
   ],
   "source": [
    "rfm_table.where(col(\"Customer ID\") == 48254).show()"
   ]
  },
  {
   "cell_type": "code",
   "execution_count": 119,
   "metadata": {},
   "outputs": [
    {
     "name": "stderr",
     "output_type": "stream",
     "text": [
      "                                                                                \r"
     ]
    }
   ],
   "source": [
    "r_quartile = rfm_table.approxQuantile(\"Recency\", [0.10, 0.20, 0.30,0.40,0.50,0.60,0.70,0.80,0.90], 0)\n",
    "f_quartile = rfm_table.approxQuantile(\"Frequency\", [0.10, 0.20, 0.30,0.40,0.50,0.60,0.70,0.80,0.90], 0)\n",
    "m_quartile = rfm_table.approxQuantile(\"Monetary\", [0.10, 0.20, 0.30,0.40,0.50,0.60,0.70,0.80,0.90], 0)\n",
    " \n",
    "rfm_table = rfm_table.withColumn(\"R_Quartile\", \\\n",
    "                                 when(col(\"Recency\") >= r_quartile[8] , 1).\\\n",
    "                                 when(col(\"Recency\") >= r_quartile[7] , 2).\\\n",
    "                                 when(col(\"Recency\") >= r_quartile[6] , 3).\\\n",
    "                                 when(col(\"Recency\") >= r_quartile[5] , 4).\\\n",
    "                                 when(col(\"Recency\") >= r_quartile[4] , 5).\\\n",
    "                                 when(col(\"Recency\") >= r_quartile[3] , 6).\\\n",
    "                                 when(col(\"Recency\") >= r_quartile[2] , 7).\\\n",
    "                                 when(col(\"Recency\") >= r_quartile[1] , 8).\\\n",
    "                                 when(col(\"Recency\") >= r_quartile[0] , 9).\\\n",
    "                                 otherwise(10))\n",
    " \n",
    "rfm_table = rfm_table.withColumn(\"F_Quartile\", \\\n",
    "                                 when(col(\"Frequency\") > f_quartile[8] , 10).\\\n",
    "                                 when(col(\"Frequency\") > f_quartile[7] , 9).\\\n",
    "                                 when(col(\"Frequency\") > f_quartile[6] , 8).\\\n",
    "                                 when(col(\"Frequency\") > f_quartile[5] , 7).\\\n",
    "                                 when(col(\"Frequency\") > f_quartile[4] , 6).\\\n",
    "                                 when(col(\"Frequency\") > f_quartile[3] , 5).\\\n",
    "                                 when(col(\"Frequency\") > f_quartile[2] , 4).\\\n",
    "                                 when(col(\"Frequency\") > f_quartile[1] , 3).\\\n",
    "                                 when(col(\"Frequency\") > f_quartile[0] , 2).\\\n",
    "                                 otherwise(1))\n",
    " \n",
    "rfm_table = rfm_table.withColumn(\"M_Quartile\", \\\n",
    "                                 when(col(\"Monetary\") >= m_quartile[8] , 10).\\\n",
    "                                 when(col(\"Monetary\") >= m_quartile[7] , 9).\\\n",
    "                                 when(col(\"Monetary\") >= m_quartile[6] , 8).\\\n",
    "                                 when(col(\"Monetary\") >= m_quartile[5] , 7).\\\n",
    "                                 when(col(\"Monetary\") >= m_quartile[4] , 6).\\\n",
    "                                 when(col(\"Monetary\") >= m_quartile[3] , 5).\\\n",
    "                                 when(col(\"Monetary\") >= m_quartile[2] , 4).\\\n",
    "                                 when(col(\"Monetary\") >= m_quartile[1] , 3).\\\n",
    "                                 when(col(\"Monetary\") >= m_quartile[0] , 2).\\\n",
    "                                 otherwise(1))\n",
    " \n",
    "rfm_table = rfm_table.withColumn(\"RFM_Score\", concat(col(\"R_Quartile\"), col(\"F_Quartile\"), col(\"M_Quartile\")))"
   ]
  },
  {
   "cell_type": "code",
   "execution_count": 121,
   "metadata": {},
   "outputs": [
    {
     "name": "stdout",
     "output_type": "stream",
     "text": [
      "+-----------+-------+---------+------------------+----------+----------+----------+---------+\n",
      "|Customer ID|Recency|Frequency|          Monetary|R_Quartile|F_Quartile|M_Quartile|RFM_Score|\n",
      "+-----------+-------+---------+------------------+----------+----------+----------+---------+\n",
      "|      48254|   1398|        4|337.29999999999995|         5|         7|         6|      576|\n",
      "+-----------+-------+---------+------------------+----------+----------+----------+---------+\n",
      "\n"
     ]
    }
   ],
   "source": [
    "rfm_table.where(col(\"Customer ID\") == 48254).show()"
   ]
  },
  {
   "cell_type": "code",
   "execution_count": 120,
   "metadata": {},
   "outputs": [
    {
     "name": "stderr",
     "output_type": "stream",
     "text": [
      "                                                                                \r"
     ]
    },
    {
     "data": {
      "image/png": "[encoded data removed]",
      "text/plain": [
       "<Figure size 750x750 with 12 Axes>"
      ]
     },
     "metadata": {},
     "output_type": "display_data"
    }
   ],
   "source": [
    "rfm_corr = rfm_table.toPandas()\n",
    "\n",
    "# Build a pairplot with different x and y variables\n",
    "sns.pairplot(data=rfm_corr,\n",
    "        vars=[\"Recency\", \"Frequency\", \"Monetary\"],\n",
    "        kind='reg',\n",
    "        diag_kind = 'kde')\n",
    "\n",
    "plt.show()"
   ]
  },
  {
   "cell_type": "code",
   "execution_count": 111,
   "metadata": {},
   "outputs": [
    {
     "name": "stderr",
     "output_type": "stream",
     "text": [
      "                                                                                \r"
     ]
    },
    {
     "data": {
      "text/plain": [
       "185009"
      ]
     },
     "execution_count": 111,
     "metadata": {},
     "output_type": "execute_result"
    }
   ],
   "source": [
    "df2.select(\"Customer ID\").count()"
   ]
  },
  {
   "cell_type": "code",
   "execution_count": 59,
   "metadata": {},
   "outputs": [
    {
     "name": "stdout",
     "output_type": "stream",
     "text": [
      "root\n",
      " |-- Recency: integer (nullable = true)\n",
      " |-- Product ID: long (nullable = true)\n",
      " |-- Customer ID: integer (nullable = true)\n",
      " |-- Customer Status: string (nullable = true)\n",
      " |-- Date Order was placed: date (nullable = true)\n",
      " |-- Delivery Date: date (nullable = true)\n",
      " |-- Order ID: integer (nullable = true)\n",
      " |-- Quantity Ordered: integer (nullable = true)\n",
      " |-- Total Retail Price for This Order: double (nullable = true)\n",
      " |-- Cost Price Per Unit: double (nullable = true)\n",
      " |-- Year: integer (nullable = true)\n",
      " |-- Month: integer (nullable = true)\n",
      " |-- Retail Price: double (nullable = true)\n",
      " |-- Profit: double (nullable = true)\n",
      " |-- Product Category: string (nullable = true)\n",
      " |-- Product Name: string (nullable = true)\n",
      "\n"
     ]
    }
   ],
   "source": [
    "df2.printSchema()"
   ]
  },
  {
   "cell_type": "code",
   "execution_count": 68,
   "metadata": {},
   "outputs": [
    {
     "name": "stderr",
     "output_type": "stream",
     "text": [
      "                                                                                \r"
     ]
    },
    {
     "name": "stdout",
     "output_type": "stream",
     "text": [
      "+-------+------------+-----------+---------------+---------------------+-------------+---------+----------------+---------------------------------+-------------------+----+-----+------------+------+--------------------+--------------------+---+\n",
      "|Recency|  Product ID|Customer ID|Customer Status|Date Order was placed|Delivery Date| Order ID|Quantity Ordered|Total Retail Price for This Order|Cost Price Per Unit|Year|Month|Retail Price|Profit|    Product Category|        Product Name|Day|\n",
      "+-------+------------+-----------+---------------+---------------------+-------------+---------+----------------+---------------------------------+-------------------+----+-----+------------+------+--------------------+--------------------+---+\n",
      "|      1|240100400009|       1870|         Silver|           2017-01-02|   2017-01-02|123006324|               1|                             65.5|               25.6|2017|    1|        65.5|  39.9|Assorted Sports A...|Hull Ice Hockey s...|  2|\n",
      "|      1|240600100089|       2351|         Silver|           2017-01-02|   2017-01-02|123005769|               2|                             44.0|                9.1|2017|    1|        22.0|  25.8|         Swim Sports|Sunfit Bombay Swi...|  2|\n",
      "|      1|240200100215|       3073|         Silver|           2017-01-02|   2017-01-02|123008467|               1|                            108.7|               56.3|2017|    1|       108.7|  52.4|                Golf|Proplay Women's T...|  2|\n",
      "|      1|220200300083|       5907|           Gold|           2017-01-02|   2017-01-06|123008924|               1|                             53.0|               26.6|2017|    1|        53.0|  26.4|               Shoes|Maya Trx Liga Foo...|  2|\n",
      "|      1|220200200021|       7309|         Silver|           2017-01-02|   2017-01-07|123006398|               1|                             64.0|              37.85|2017|    1|        64.0| 26.15|               Shoes|Pro Fit  Gel Ds T...|  2|\n",
      "|      1|220100100108|       9216|         Silver|           2017-01-02|   2017-01-02|123009762|               1|                            114.2|               57.2|2017|    1|       114.2|  57.0|             Clothes|Big Guy Men's Cli...|  2|\n",
      "|      1|220200100226|       9542|         Silver|           2017-01-02|   2017-01-06|123009779|               2|                            266.4|               66.7|2017|    1|       133.2| 133.0|               Shoes|Woman's Air Zoom ...|  2|\n",
      "|      1|240200100047|      12409|           Gold|           2017-01-02|   2017-01-02|123005849|               2|                             29.6|                7.5|2017|    1|        14.8|  14.6|                Golf|Bretagne Soft-Tec...|  2|\n",
      "|      1|240800100075|      12601|         Silver|           2017-01-02|   2017-01-07|123009881|               2|                            647.2|             133.55|2017|    1|       323.6| 380.1|       Winter Sports|Mayday Soul Pullo...|  2|\n",
      "|      1|240500100046|      14679|         Silver|           2017-01-02|   2017-01-07|123009905|               1|                             69.8|               22.4|2017|    1|        69.8|  47.4|   Running - Jogging|Triffy Polyester ...|  2|\n",
      "|      1|220200200045|      16958|           Gold|           2017-01-02|   2017-01-02|123009956|               3|                            339.0|              51.45|2017|    1|       113.0|184.65|               Shoes|Soft Gt 2040 Wome...|  2|\n",
      "|      1|230100300001|      17705|         Silver|           2017-01-02|   2017-01-02|123008541|               1|                             12.7|               5.75|2017|    1|        12.7|  6.95|            Outdoors|        Adult Mitten|  2|\n",
      "|      1|240800100080|      18363|         Silver|           2017-01-02|   2017-01-03|123009987|               2|                            423.2|              94.25|2017|    1|       211.6| 234.7|       Winter Sports|Mt.kenya Men's Sk...|  2|\n",
      "|      1|240600100165|      18432|         Silver|           2017-01-02|   2017-01-04|123009996|               1|                             22.8|               9.75|2017|    1|        22.8| 13.05|         Swim Sports|       Bikini Penola|  2|\n",
      "|      1|240500100011|      18802|           Gold|           2017-01-02|   2017-01-02|123006561|               1|                             39.2|              17.85|2017|    1|        39.2| 21.35|   Running - Jogging|         Pants Woven|  2|\n",
      "|      1|240800200042|      19121|         Silver|           2017-01-02|   2017-01-02|123006600|               2|                             95.8|               20.9|2017|    1|        47.9|  54.0|       Winter Sports|Gtx Powder Thermo...|  2|\n",
      "|      1|230100500095|      19669|           Gold|           2017-01-02|   2017-01-02|123008945|               1|                             96.9|               40.0|2017|    1|        96.9|  56.9|            Outdoors|Men's Sports Pull...|  2|\n",
      "|      1|220200300121|      20504|           Gold|           2017-01-02|   2017-01-04|123010084|               2|                            169.8|               38.7|2017|    1|        84.9|  92.4|               Shoes|      Starlite Shoes|  2|\n",
      "|      1|240300300032|      21446|           Gold|           2017-01-02|   2017-01-06|123008948|               2|                             94.6|               20.2|2017|    1|        47.3|  54.2|       Indoor Sports|Top Active Warm U...|  2|\n",
      "|      1|210200600085|      23400|         Silver|           2017-01-02|   2017-01-02|123008591|               1|                             36.6|              16.55|2017|    1|        36.6| 20.05|     Children Sports|Gordon Children's...|  2|\n",
      "+-------+------------+-----------+---------------+---------------------+-------------+---------+----------------+---------------------------------+-------------------+----+-----+------------+------+--------------------+--------------------+---+\n",
      "only showing top 20 rows\n",
      "\n"
     ]
    }
   ],
   "source": [
    "test = (\n",
    "    df2\n",
    "    .withColumn(\"Day\", day(\"Date Order was placed\"))\n",
    "    .filter((col('Year')==2017)&(col('Month')==1)&(col('Day') == 2))\n",
    ")\n",
    "\n",
    "test.show()"
   ]
  },
  {
   "cell_type": "markdown",
   "metadata": {},
   "source": []
  },
  {
   "cell_type": "markdown",
   "metadata": {},
   "source": [
    "## Frequency"
   ]
  },
  {
   "cell_type": "code",
   "execution_count": 74,
   "metadata": {},
   "outputs": [
    {
     "name": "stderr",
     "output_type": "stream",
     "text": [
      "[Stage 384:==============>                                          (1 + 3) / 4]\r"
     ]
    },
    {
     "name": "stdout",
     "output_type": "stream",
     "text": [
      "+-----------+---------+\n",
      "|Customer ID|Frequency|\n",
      "+-----------+---------+\n",
      "|148        |7        |\n",
      "|53634      |8        |\n",
      "|88674      |5        |\n",
      "|37263      |5        |\n",
      "|26755      |9        |\n",
      "+-----------+---------+\n",
      "only showing top 5 rows\n",
      "\n"
     ]
    },
    {
     "name": "stderr",
     "output_type": "stream",
     "text": [
      "                                                                                \r"
     ]
    }
   ],
   "source": [
    "df_freq = df2.groupBy('Customer ID').agg(count('Date Order was placed').alias('Frequency'))\n",
    "\n",
    "df_freq.show(5,0)"
   ]
  },
  {
   "cell_type": "code",
   "execution_count": 75,
   "metadata": {},
   "outputs": [
    {
     "name": "stdout",
     "output_type": "stream",
     "text": [
      "root\n",
      " |-- Customer ID: integer (nullable = true)\n",
      " |-- Recency: integer (nullable = true)\n",
      " |-- Product ID: long (nullable = true)\n",
      " |-- Customer Status: string (nullable = true)\n",
      " |-- Date Order was placed: date (nullable = true)\n",
      " |-- Delivery Date: date (nullable = true)\n",
      " |-- Order ID: integer (nullable = true)\n",
      " |-- Quantity Ordered: integer (nullable = true)\n",
      " |-- Total Retail Price for This Order: double (nullable = true)\n",
      " |-- Cost Price Per Unit: double (nullable = true)\n",
      " |-- Year: integer (nullable = true)\n",
      " |-- Month: integer (nullable = true)\n",
      " |-- Retail Price: double (nullable = true)\n",
      " |-- Profit: double (nullable = true)\n",
      " |-- Product Category: string (nullable = true)\n",
      " |-- Product Name: string (nullable = true)\n",
      " |-- Frequency: long (nullable = false)\n",
      "\n"
     ]
    }
   ],
   "source": [
    "df3 = df2.join(df_freq, on='Customer ID',how='inner')\n",
    "\n",
    "df3.printSchema()"
   ]
  },
  {
   "cell_type": "code",
   "execution_count": 76,
   "metadata": {},
   "outputs": [
    {
     "name": "stderr",
     "output_type": "stream",
     "text": [
      "                                                                                \r"
     ]
    },
    {
     "name": "stdout",
     "output_type": "stream",
     "text": [
      "+-----------+-------+------------+---------------+---------------------+-------------+---------+----------------+---------------------------------+-------------------+----+-----+------------+------+-----------------+--------------------+---------+\n",
      "|Customer ID|Recency|  Product ID|Customer Status|Date Order was placed|Delivery Date| Order ID|Quantity Ordered|Total Retail Price for This Order|Cost Price Per Unit|Year|Month|Retail Price|Profit| Product Category|        Product Name|Frequency|\n",
      "+-----------+-------+------------+---------------+---------------------+-------------+---------+----------------+---------------------------------+-------------------+----+-----+------------+------+-----------------+--------------------+---------+\n",
      "|        291|    148|240500100064|       Platinum|           2017-05-29|   2017-06-13|123015210|               1|                             55.7|               24.2|2017|    5|        55.7|  31.5|Running - Jogging|Ypsilon Pants Inf...|        7|\n",
      "|        296|    148|220100400022|           Gold|           2017-05-29|   2017-05-29|123015498|               1|                             98.9|               47.7|2017|    5|        98.9|  51.2|          Clothes|Ultra M803 Ng Men...|        4|\n",
      "|        968|    148|230100500067|           Gold|           2017-05-29|   2017-06-03|123011928|               2|                             78.4|              20.05|2017|    5|        39.2|  38.3|         Outdoors|Outback Storm Kit...|        2|\n",
      "|       2520|    148|220101300005|           Gold|           2017-05-29|   2017-06-04|123014399|               1|                             25.7|               11.5|2017|    5|        25.7|  14.2|          Clothes|   A-team Polo Pique|        8|\n",
      "|       5229|    148|240800200001|         Silver|           2017-05-29|   2017-05-29|123011990|               1|                            169.5|               67.8|2017|    5|       169.5| 101.7|    Winter Sports|Massif  Bandit L ...|        4|\n",
      "+-----------+-------+------------+---------------+---------------------+-------------+---------+----------------+---------------------------------+-------------------+----+-----+------------+------+-----------------+--------------------+---------+\n",
      "only showing top 5 rows\n",
      "\n"
     ]
    }
   ],
   "source": [
    "df3.show(5)"
   ]
  },
  {
   "cell_type": "markdown",
   "metadata": {},
   "source": [
    "## Monetary Value"
   ]
  },
  {
   "cell_type": "code",
   "execution_count": 78,
   "metadata": {},
   "outputs": [
    {
     "name": "stderr",
     "output_type": "stream",
     "text": [
      "[Stage 410:==========================================>              (3 + 1) / 4]\r"
     ]
    },
    {
     "name": "stdout",
     "output_type": "stream",
     "text": [
      "+-----------+--------------+\n",
      "|Customer ID|Monetary Value|\n",
      "+-----------+--------------+\n",
      "|        148|        1090.9|\n",
      "|      53634|         741.4|\n",
      "|      88674|         264.8|\n",
      "|      37263|        1578.3|\n",
      "|      26755|        2102.1|\n",
      "+-----------+--------------+\n",
      "only showing top 5 rows\n",
      "\n"
     ]
    },
    {
     "name": "stderr",
     "output_type": "stream",
     "text": [
      "                                                                                \r"
     ]
    }
   ],
   "source": [
    "m_val = df3.groupBy('Customer ID').agg(round(sum('Total Retail Price for This Order'),2).alias('Monetary Value'))\n",
    "\n",
    "m_val.show(5)"
   ]
  },
  {
   "cell_type": "code",
   "execution_count": 90,
   "metadata": {},
   "outputs": [],
   "source": [
    "finaldf = m_val.join(df3,on='Customer ID',how='inner')"
   ]
  },
  {
   "cell_type": "code",
   "execution_count": 92,
   "metadata": {},
   "outputs": [
    {
     "name": "stderr",
     "output_type": "stream",
     "text": [
      "                                                                                \r"
     ]
    },
    {
     "data": {
      "text/html": [
       "<div>\n",
       "<style scoped>\n",
       "    .dataframe tbody tr th:only-of-type {\n",
       "        vertical-align: middle;\n",
       "    }\n",
       "\n",
       "    .dataframe tbody tr th {\n",
       "        vertical-align: top;\n",
       "    }\n",
       "\n",
       "    .dataframe thead th {\n",
       "        text-align: right;\n",
       "    }\n",
       "</style>\n",
       "<table border=\"1\" class=\"dataframe\">\n",
       "  <thead>\n",
       "    <tr style=\"text-align: right;\">\n",
       "      <th></th>\n",
       "      <th>Recency</th>\n",
       "      <th>Frequency</th>\n",
       "      <th>Monetary Value</th>\n",
       "      <th>Customer ID</th>\n",
       "    </tr>\n",
       "  </thead>\n",
       "  <tbody>\n",
       "    <tr>\n",
       "      <th>184595</th>\n",
       "      <td>1648</td>\n",
       "      <td>9</td>\n",
       "      <td>883.5</td>\n",
       "      <td>94252</td>\n",
       "    </tr>\n",
       "    <tr>\n",
       "      <th>184596</th>\n",
       "      <td>1619</td>\n",
       "      <td>9</td>\n",
       "      <td>883.5</td>\n",
       "      <td>94252</td>\n",
       "    </tr>\n",
       "    <tr>\n",
       "      <th>184597</th>\n",
       "      <td>1586</td>\n",
       "      <td>9</td>\n",
       "      <td>883.5</td>\n",
       "      <td>94252</td>\n",
       "    </tr>\n",
       "    <tr>\n",
       "      <th>184598</th>\n",
       "      <td>1105</td>\n",
       "      <td>9</td>\n",
       "      <td>883.5</td>\n",
       "      <td>94252</td>\n",
       "    </tr>\n",
       "    <tr>\n",
       "      <th>184599</th>\n",
       "      <td>1126</td>\n",
       "      <td>9</td>\n",
       "      <td>883.5</td>\n",
       "      <td>94252</td>\n",
       "    </tr>\n",
       "    <tr>\n",
       "      <th>184600</th>\n",
       "      <td>1229</td>\n",
       "      <td>9</td>\n",
       "      <td>883.5</td>\n",
       "      <td>94252</td>\n",
       "    </tr>\n",
       "    <tr>\n",
       "      <th>184601</th>\n",
       "      <td>343</td>\n",
       "      <td>9</td>\n",
       "      <td>883.5</td>\n",
       "      <td>94252</td>\n",
       "    </tr>\n",
       "    <tr>\n",
       "      <th>184602</th>\n",
       "      <td>169</td>\n",
       "      <td>9</td>\n",
       "      <td>883.5</td>\n",
       "      <td>94252</td>\n",
       "    </tr>\n",
       "    <tr>\n",
       "      <th>184603</th>\n",
       "      <td>554</td>\n",
       "      <td>2</td>\n",
       "      <td>813.2</td>\n",
       "      <td>94253</td>\n",
       "    </tr>\n",
       "    <tr>\n",
       "      <th>184604</th>\n",
       "      <td>602</td>\n",
       "      <td>2</td>\n",
       "      <td>813.2</td>\n",
       "      <td>94253</td>\n",
       "    </tr>\n",
       "  </tbody>\n",
       "</table>\n",
       "</div>"
      ],
      "text/plain": [
       "        Recency  Frequency  Monetary Value  Customer ID\n",
       "184595     1648          9           883.5        94252\n",
       "184596     1619          9           883.5        94252\n",
       "184597     1586          9           883.5        94252\n",
       "184598     1105          9           883.5        94252\n",
       "184599     1126          9           883.5        94252\n",
       "184600     1229          9           883.5        94252\n",
       "184601      343          9           883.5        94252\n",
       "184602      169          9           883.5        94252\n",
       "184603      554          2           813.2        94253\n",
       "184604      602          2           813.2        94253"
      ]
     },
     "execution_count": 92,
     "metadata": {},
     "output_type": "execute_result"
    }
   ],
   "source": [
    "finaldf = finaldf.select(['Recency','Frequency','Monetary Value','Customer ID']).distinct()\n",
    "\n",
    "finaldf.toPandas().tail(10)"
   ]
  },
  {
   "cell_type": "code",
   "execution_count": 103,
   "metadata": {},
   "outputs": [
    {
     "name": "stdout",
     "output_type": "stream",
     "text": [
      "root\n",
      " |-- SKU: string (nullable = true)\n",
      " |-- OrderNum: string (nullable = true)\n",
      " |-- CustomerID: string (nullable = true)\n",
      " |-- Sale Price: string (nullable = true)\n",
      " |-- SKU Description: string (nullable = true)\n",
      " |-- Created On: string (nullable = true)\n",
      " |-- Category: string (nullable = true)\n",
      "\n"
     ]
    }
   ],
   "source": [
    "new = spark.read.csv('Dataset/retail_orders_new.csv',\n",
    "                    header=True,\n",
    "                    escape=\"\\\"\")\n",
    "\n",
    "new.printSchema()"
   ]
  },
  {
   "cell_type": "code",
   "execution_count": 104,
   "metadata": {},
   "outputs": [],
   "source": [
    "new = new.withColumn(\"OrderDate\", to_date(unix_timestamp(\"Created On\", \"yyyy-MM-dd\").cast(\"timestamp\")))"
   ]
  },
  {
   "cell_type": "code",
   "execution_count": 107,
   "metadata": {},
   "outputs": [
    {
     "name": "stderr",
     "output_type": "stream",
     "text": [
      "[Stage 540:=======>                                                 (1 + 7) / 8]\r"
     ]
    },
    {
     "name": "stdout",
     "output_type": "stream",
     "text": [
      "+----------+\n",
      "| OrderDate|\n",
      "+----------+\n",
      "|2015-06-02|\n",
      "|2015-06-02|\n",
      "|2015-06-02|\n",
      "|2015-06-02|\n",
      "|2015-06-02|\n",
      "|2015-06-02|\n",
      "|2015-06-02|\n",
      "|2015-06-02|\n",
      "|2015-06-02|\n",
      "|2015-06-02|\n",
      "|2015-06-02|\n",
      "|2015-06-02|\n",
      "|2015-06-02|\n",
      "|2015-06-02|\n",
      "|2015-06-02|\n",
      "|2015-06-02|\n",
      "|2015-06-02|\n",
      "|2015-06-02|\n",
      "|2015-06-02|\n",
      "|2015-06-02|\n",
      "+----------+\n",
      "only showing top 20 rows\n",
      "\n"
     ]
    },
    {
     "name": "stderr",
     "output_type": "stream",
     "text": [
      "                                                                                \r"
     ]
    }
   ],
   "source": [
    "(new\n",
    " .where(col(\"OrderDate\") == new.agg(min(\"OrderDate\")).first()[0])\n",
    " .select([\"OrderDate\"])\n",
    " .show())"
   ]
  },
  {
   "cell_type": "code",
   "execution_count": null,
   "metadata": {},
   "outputs": [],
   "source": []
  }
 ],
 "metadata": {
  "kernelspec": {
   "display_name": ".env",
   "language": "python",
   "name": "python3"
  },
  "language_info": {
   "codemirror_mode": {
    "name": "ipython",
    "version": 3
   },
   "file_extension": ".py",
   "mimetype": "text/x-python",
   "name": "python",
   "nbconvert_exporter": "python",
   "pygments_lexer": "ipython3",
   "version": "3.9.6"
  }
 },
 "nbformat": 4,
 "nbformat_minor": 2
}
